{
 "cells": [
  {
   "cell_type": "code",
   "execution_count": 1,
   "id": "893c070d-2a8f-443e-8186-fb981518b866",
   "metadata": {},
   "outputs": [
    {
     "name": "stderr",
     "output_type": "stream",
     "text": [
      "2023-06-08 12:42:56.545706: I tensorflow/core/platform/cpu_feature_guard.cc:182] This TensorFlow binary is optimized to use available CPU instructions in performance-critical operations.\n",
      "To enable the following instructions: AVX2 FMA, in other operations, rebuild TensorFlow with the appropriate compiler flags.\n",
      "2023-06-08 12:42:57.345902: W tensorflow/compiler/tf2tensorrt/utils/py_utils.cc:38] TF-TRT Warning: Could not find TensorRT\n"
     ]
    }
   ],
   "source": [
    "import tensorflow as tf\n",
    "import pandas as pd\n",
    "import numpy as np"
   ]
  },
  {
   "cell_type": "code",
   "execution_count": 2,
   "id": "9e93cb57-8979-4a96-a0cc-3ae89b22e3cb",
   "metadata": {},
   "outputs": [],
   "source": [
    "df = pd.read_csv(\"tokenized.csv\", index_col=0, usecols=[0, 1, 2], dtype={\"word\": object, \"tag\": object})\n",
    "df[\"word\"] = df[\"word\"].apply(str)"
   ]
  },
  {
   "cell_type": "code",
   "execution_count": 3,
   "id": "31a0fd88-6e14-40b8-87e6-80a8c975bd9a",
   "metadata": {},
   "outputs": [
    {
     "data": {
      "text/html": [
       "<div>\n",
       "<style scoped>\n",
       "    .dataframe tbody tr th:only-of-type {\n",
       "        vertical-align: middle;\n",
       "    }\n",
       "\n",
       "    .dataframe tbody tr th {\n",
       "        vertical-align: top;\n",
       "    }\n",
       "\n",
       "    .dataframe thead th {\n",
       "        text-align: right;\n",
       "    }\n",
       "</style>\n",
       "<table border=\"1\" class=\"dataframe\">\n",
       "  <thead>\n",
       "    <tr style=\"text-align: right;\">\n",
       "      <th></th>\n",
       "      <th>word</th>\n",
       "      <th>tag</th>\n",
       "    </tr>\n",
       "  </thead>\n",
       "  <tbody>\n",
       "    <tr>\n",
       "      <th>0</th>\n",
       "      <td>404</td>\n",
       "      <td>NaN</td>\n",
       "    </tr>\n",
       "    <tr>\n",
       "      <th>1</th>\n",
       "      <td>Not</td>\n",
       "      <td>NaN</td>\n",
       "    </tr>\n",
       "    <tr>\n",
       "      <th>2</th>\n",
       "      <td>Found</td>\n",
       "      <td>NaN</td>\n",
       "    </tr>\n",
       "    <tr>\n",
       "      <th>3</th>\n",
       "      <td>–</td>\n",
       "      <td>NaN</td>\n",
       "    </tr>\n",
       "    <tr>\n",
       "      <th>4</th>\n",
       "      <td>Huxlo</td>\n",
       "      <td>NaN</td>\n",
       "    </tr>\n",
       "  </tbody>\n",
       "</table>\n",
       "</div>"
      ],
      "text/plain": [
       "    word  tag\n",
       "0    404  NaN\n",
       "1    Not  NaN\n",
       "2  Found  NaN\n",
       "3      –  NaN\n",
       "4  Huxlo  NaN"
      ]
     },
     "execution_count": 3,
     "metadata": {},
     "output_type": "execute_result"
    }
   ],
   "source": [
    "df.head()"
   ]
  },
  {
   "cell_type": "code",
   "execution_count": 4,
   "id": "ff9fc8fe-088c-428b-8405-c0b57f49affe",
   "metadata": {},
   "outputs": [
    {
     "name": "stdout",
     "output_type": "stream",
     "text": [
      "<class 'pandas.core.frame.DataFrame'>\n",
      "Index: 67836 entries, 0 to 67835\n",
      "Data columns (total 2 columns):\n",
      " #   Column  Non-Null Count  Dtype \n",
      "---  ------  --------------  ----- \n",
      " 0   word    67836 non-null  object\n",
      " 1   tag     1582 non-null   object\n",
      "dtypes: object(2)\n",
      "memory usage: 1.6+ MB\n"
     ]
    }
   ],
   "source": [
    "df.info()"
   ]
  },
  {
   "cell_type": "code",
   "execution_count": 5,
   "id": "9a1b938c-94bd-4d5c-9eae-70f80d73dd8d",
   "metadata": {},
   "outputs": [
    {
     "data": {
      "text/plain": [
       "tag\n",
       "I-PROD    797\n",
       "B-PROD    785\n",
       "Name: count, dtype: int64"
      ]
     },
     "execution_count": 5,
     "metadata": {},
     "output_type": "execute_result"
    }
   ],
   "source": [
    "df.value_counts(subset=\"tag\")"
   ]
  },
  {
   "cell_type": "code",
   "execution_count": 6,
   "id": "78de7d1b-c5e7-42a2-abb8-165059b04258",
   "metadata": {},
   "outputs": [],
   "source": [
    "df[\"tag\"] = df[\"tag\"].fillna(\"O\")"
   ]
  },
  {
   "cell_type": "code",
   "execution_count": 7,
   "id": "e1d44c6f-bbc9-4191-a28e-8a436d030bba",
   "metadata": {},
   "outputs": [
    {
     "data": {
      "text/plain": [
       "tag\n",
       "O         66254\n",
       "I-PROD      797\n",
       "B-PROD      785\n",
       "Name: count, dtype: int64"
      ]
     },
     "execution_count": 7,
     "metadata": {},
     "output_type": "execute_result"
    }
   ],
   "source": [
    "df.value_counts(subset=\"tag\")"
   ]
  },
  {
   "cell_type": "code",
   "execution_count": 8,
   "id": "a7e04625-b19a-4097-8ba8-62669a8589fd",
   "metadata": {},
   "outputs": [
    {
     "data": {
      "text/plain": [
       "word    9032\n",
       "tag        3\n",
       "dtype: int64"
      ]
     },
     "execution_count": 8,
     "metadata": {},
     "output_type": "execute_result"
    }
   ],
   "source": [
    "df.nunique()"
   ]
  },
  {
   "cell_type": "code",
   "execution_count": 9,
   "id": "aabee3b1-c1c0-4574-9952-28dcef643169",
   "metadata": {},
   "outputs": [
    {
     "data": {
      "text/html": [
       "<div>\n",
       "<style scoped>\n",
       "    .dataframe tbody tr th:only-of-type {\n",
       "        vertical-align: middle;\n",
       "    }\n",
       "\n",
       "    .dataframe tbody tr th {\n",
       "        vertical-align: top;\n",
       "    }\n",
       "\n",
       "    .dataframe thead th {\n",
       "        text-align: right;\n",
       "    }\n",
       "</style>\n",
       "<table border=\"1\" class=\"dataframe\">\n",
       "  <thead>\n",
       "    <tr style=\"text-align: right;\">\n",
       "      <th></th>\n",
       "      <th>word</th>\n",
       "      <th>tag</th>\n",
       "    </tr>\n",
       "  </thead>\n",
       "  <tbody>\n",
       "    <tr>\n",
       "      <th>0</th>\n",
       "      <td>404</td>\n",
       "      <td>O</td>\n",
       "    </tr>\n",
       "    <tr>\n",
       "      <th>1</th>\n",
       "      <td>Not</td>\n",
       "      <td>O</td>\n",
       "    </tr>\n",
       "    <tr>\n",
       "      <th>2</th>\n",
       "      <td>Found</td>\n",
       "      <td>O</td>\n",
       "    </tr>\n",
       "    <tr>\n",
       "      <th>3</th>\n",
       "      <td>–</td>\n",
       "      <td>O</td>\n",
       "    </tr>\n",
       "    <tr>\n",
       "      <th>4</th>\n",
       "      <td>Huxlo</td>\n",
       "      <td>O</td>\n",
       "    </tr>\n",
       "  </tbody>\n",
       "</table>\n",
       "</div>"
      ],
      "text/plain": [
       "    word tag\n",
       "0    404   O\n",
       "1    Not   O\n",
       "2  Found   O\n",
       "3      –   O\n",
       "4  Huxlo   O"
      ]
     },
     "execution_count": 9,
     "metadata": {},
     "output_type": "execute_result"
    }
   ],
   "source": [
    "df.head()"
   ]
  },
  {
   "cell_type": "code",
   "execution_count": 10,
   "id": "1e16ee55-187f-4afb-be40-31b9d988fe4c",
   "metadata": {},
   "outputs": [],
   "source": [
    "MASK_TOKEN = \"[MASK]\"\n",
    "END_SEQUENCE_TOKEN = \"END_SEQUENCE\""
   ]
  },
  {
   "cell_type": "code",
   "execution_count": 11,
   "id": "67619adf-d3d5-4b67-9da5-ab262236e50a",
   "metadata": {},
   "outputs": [
    {
     "name": "stderr",
     "output_type": "stream",
     "text": [
      "2023-06-08 12:42:59.780446: I tensorflow/compiler/xla/stream_executor/cuda/cuda_gpu_executor.cc:996] successful NUMA node read from SysFS had negative value (-1), but there must be at least one NUMA node, so returning NUMA node zero. See more at https://github.com/torvalds/linux/blob/v6.0/Documentation/ABI/testing/sysfs-bus-pci#L344-L355\n",
      "2023-06-08 12:42:59.816418: I tensorflow/compiler/xla/stream_executor/cuda/cuda_gpu_executor.cc:996] successful NUMA node read from SysFS had negative value (-1), but there must be at least one NUMA node, so returning NUMA node zero. See more at https://github.com/torvalds/linux/blob/v6.0/Documentation/ABI/testing/sysfs-bus-pci#L344-L355\n",
      "2023-06-08 12:42:59.816970: I tensorflow/compiler/xla/stream_executor/cuda/cuda_gpu_executor.cc:996] successful NUMA node read from SysFS had negative value (-1), but there must be at least one NUMA node, so returning NUMA node zero. See more at https://github.com/torvalds/linux/blob/v6.0/Documentation/ABI/testing/sysfs-bus-pci#L344-L355\n",
      "2023-06-08 12:42:59.817809: I tensorflow/compiler/xla/stream_executor/cuda/cuda_gpu_executor.cc:996] successful NUMA node read from SysFS had negative value (-1), but there must be at least one NUMA node, so returning NUMA node zero. See more at https://github.com/torvalds/linux/blob/v6.0/Documentation/ABI/testing/sysfs-bus-pci#L344-L355\n",
      "2023-06-08 12:42:59.818062: I tensorflow/compiler/xla/stream_executor/cuda/cuda_gpu_executor.cc:996] successful NUMA node read from SysFS had negative value (-1), but there must be at least one NUMA node, so returning NUMA node zero. See more at https://github.com/torvalds/linux/blob/v6.0/Documentation/ABI/testing/sysfs-bus-pci#L344-L355\n",
      "2023-06-08 12:42:59.818308: I tensorflow/compiler/xla/stream_executor/cuda/cuda_gpu_executor.cc:996] successful NUMA node read from SysFS had negative value (-1), but there must be at least one NUMA node, so returning NUMA node zero. See more at https://github.com/torvalds/linux/blob/v6.0/Documentation/ABI/testing/sysfs-bus-pci#L344-L355\n",
      "2023-06-08 12:43:00.529555: I tensorflow/compiler/xla/stream_executor/cuda/cuda_gpu_executor.cc:996] successful NUMA node read from SysFS had negative value (-1), but there must be at least one NUMA node, so returning NUMA node zero. See more at https://github.com/torvalds/linux/blob/v6.0/Documentation/ABI/testing/sysfs-bus-pci#L344-L355\n",
      "2023-06-08 12:43:00.529861: I tensorflow/compiler/xla/stream_executor/cuda/cuda_gpu_executor.cc:996] successful NUMA node read from SysFS had negative value (-1), but there must be at least one NUMA node, so returning NUMA node zero. See more at https://github.com/torvalds/linux/blob/v6.0/Documentation/ABI/testing/sysfs-bus-pci#L344-L355\n",
      "2023-06-08 12:43:00.530124: I tensorflow/compiler/xla/stream_executor/cuda/cuda_gpu_executor.cc:996] successful NUMA node read from SysFS had negative value (-1), but there must be at least one NUMA node, so returning NUMA node zero. See more at https://github.com/torvalds/linux/blob/v6.0/Documentation/ABI/testing/sysfs-bus-pci#L344-L355\n",
      "2023-06-08 12:43:00.530338: I tensorflow/core/common_runtime/gpu/gpu_device.cc:1635] Created device /job:localhost/replica:0/task:0/device:GPU:0 with 1586 MB memory:  -> device: 0, name: NVIDIA GeForce MX130, pci bus id: 0000:01:00.0, compute capability: 5.0\n"
     ]
    },
    {
     "data": {
      "text/plain": [
       "['[MASK]', '[UNK]', '-', '.', ',', ' ', '\\\\/', 'x', '&', 'to']"
      ]
     },
     "execution_count": 11,
     "metadata": {},
     "output_type": "execute_result"
    }
   ],
   "source": [
    "words = df.loc[df[\"word\"] != \"END_SEQUENCE\", \"word\"].to_numpy()\n",
    "words = tf.constant(words)\n",
    "string_lookup = tf.keras.layers.StringLookup(max_tokens=10_000, mask_token=MASK_TOKEN)\n",
    "string_lookup.adapt(words)\n",
    "string_lookup.get_vocabulary()[:10]"
   ]
  },
  {
   "cell_type": "code",
   "execution_count": 12,
   "id": "d54d66dd-6fc0-42af-820c-cc53609c9256",
   "metadata": {
    "scrolled": true
   },
   "outputs": [
    {
     "name": "stdout",
     "output_type": "stream",
     "text": [
      "Model: \"sequential\"\n",
      "_________________________________________________________________\n",
      " Layer (type)                Output Shape              Param #   \n",
      "=================================================================\n",
      " string_lookup (StringLookup  (None, None)             0         \n",
      " )                                                               \n",
      "                                                                 \n",
      " embedding (Embedding)       (None, None, 64)          578112    \n",
      "                                                                 \n",
      " lstm (LSTM)                 (None, None, 64)          33024     \n",
      "                                                                 \n",
      " time_distributed (TimeDistr  (None, None, 3)          195       \n",
      " ibuted)                                                         \n",
      "                                                                 \n",
      "=================================================================\n",
      "Total params: 611,331\n",
      "Trainable params: 611,331\n",
      "Non-trainable params: 0\n",
      "_________________________________________________________________\n"
     ]
    }
   ],
   "source": [
    "model = tf.keras.Sequential([ \n",
    "    tf.keras.Input(shape=(None,), dtype=object),\n",
    "    string_lookup,\n",
    "    tf.keras.layers.Embedding(input_dim=string_lookup.vocabulary_size(), output_dim=64, mask_zero=True),\n",
    "    tf.keras.layers.LSTM(64, return_sequences=True),\n",
    "    tf.keras.layers.TimeDistributed(\n",
    "        tf.keras.layers.Dense(3, activation=\"relu\")\n",
    "    )\n",
    "])\n",
    "model.summary()"
   ]
  },
  {
   "cell_type": "code",
   "execution_count": 13,
   "id": "cf528bdf-5f95-4aa3-aae7-d17e7f600556",
   "metadata": {},
   "outputs": [
    {
     "name": "stdout",
     "output_type": "stream",
     "text": [
      "(None, None) <dtype: 'string'>\n",
      "(None, None, 3) <dtype: 'float32'>\n",
      "string_lookup (None, None) int64\n",
      "embedding (None, None) float32\n",
      "lstm (None, None, 64) float32\n",
      "time_distributed (None, None, 64) float32\n"
     ]
    },
    {
     "data": {
      "text/plain": [
       "[None, None, None, None]"
      ]
     },
     "execution_count": 13,
     "metadata": {},
     "output_type": "execute_result"
    }
   ],
   "source": [
    "[print(i.shape, i.dtype) for i in model.inputs]\n",
    "[print(o.shape, o.dtype) for o in model.outputs]\n",
    "[print(l.name, l.input_shape, l.dtype) for l in model.layers]"
   ]
  },
  {
   "cell_type": "code",
   "execution_count": 14,
   "id": "36c05312-2ed7-45d9-9844-0975b6040601",
   "metadata": {
    "scrolled": true
   },
   "outputs": [
    {
     "name": "stdout",
     "output_type": "stream",
     "text": [
      "x_train: shape=(98, 8864), dtype=<dtype: 'string'>\n",
      "y_train: shape=(98, 8864), dtype=<dtype: 'float32'>\n"
     ]
    }
   ],
   "source": [
    "def get_unique_tags_lookup():\n",
    "    unique_tags = df[\"tag\"].unique()\n",
    "    return {tag: index for index, tag in enumerate(unique_tags)}\n",
    "\n",
    "def get_train_data():\n",
    "    # split the dataframe into sequences\n",
    "    word_sequences = []\n",
    "    tag_sequences = []\n",
    "    word_sequence = []\n",
    "    tag_sequence = []\n",
    "    tags_lookup = get_unique_tags_lookup()\n",
    "    for index, word, tag in df.itertuples():\n",
    "        if word == END_SEQUENCE_TOKEN:\n",
    "            word_sequences.append(word_sequence)\n",
    "            word_sequence = []\n",
    "            tag_sequences.append(tag_sequence)\n",
    "            tag_sequence = []\n",
    "        else:\n",
    "            word_sequence.append(str(word))\n",
    "            tag_sequence.append(tags_lookup[tag])\n",
    "    # pad the sequences to the have max length \n",
    "    max_sequence_length = max(map(lambda l: len(l), word_sequences))\n",
    "    for word_sequence, tag_sequence in zip(word_sequences, tag_sequences):\n",
    "        while len(word_sequence) < max_sequence_length:\n",
    "            word_sequence.append(MASK_TOKEN)\n",
    "            tag_sequence.append(tags_lookup[\"O\"])\n",
    "    return tf.constant(word_sequences, dtype=object), tf.constant(tag_sequences, dtype=tf.float32)\n",
    "\n",
    "x_train, y_train = get_train_data()\n",
    "print(f\"x_train: shape={x_train.shape}, dtype={x_train.dtype}\")\n",
    "print(f\"y_train: shape={y_train.shape}, dtype={y_train.dtype}\")"
   ]
  },
  {
   "cell_type": "code",
   "execution_count": 15,
   "id": "86800cc2-294f-4267-a1fa-ff5828d9465f",
   "metadata": {},
   "outputs": [],
   "source": [
    "model.compile(\n",
    "    optimizer=tf.keras.optimizers.Adam(learning_rate=1e-3),\n",
    "    loss=tf.keras.losses.SparseCategoricalCrossentropy(from_logits=True)\n",
    ")"
   ]
  },
  {
   "cell_type": "code",
   "execution_count": null,
   "id": "feaf2f61-bb17-4b2f-b2ae-8d1e08999e41",
   "metadata": {},
   "outputs": [
    {
     "name": "stdout",
     "output_type": "stream",
     "text": [
      "Epoch 1/7\n"
     ]
    },
    {
     "name": "stderr",
     "output_type": "stream",
     "text": [
      "2023-06-08 12:43:07.920359: I tensorflow/compiler/xla/stream_executor/cuda/cuda_dnn.cc:424] Loaded cuDNN version 8600\n"
     ]
    }
   ],
   "source": [
    "model.fit(\n",
    "    x=x_train,\n",
    "    y=y_train,\n",
    "    batch_size=32,\n",
    "    epochs=7\n",
    ")"
   ]
  },
  {
   "cell_type": "code",
   "execution_count": null,
   "id": "8b443bb0-23a5-47cf-b38a-19be7115fdd3",
   "metadata": {},
   "outputs": [],
   "source": [
    "model.predict(x_train[:2])"
   ]
  }
 ],
 "metadata": {
  "kernelspec": {
   "display_name": "venv",
   "language": "python",
   "name": "venv"
  },
  "language_info": {
   "codemirror_mode": {
    "name": "ipython",
    "version": 3
   },
   "file_extension": ".py",
   "mimetype": "text/x-python",
   "name": "python",
   "nbconvert_exporter": "python",
   "pygments_lexer": "ipython3",
   "version": "3.11.3"
  }
 },
 "nbformat": 4,
 "nbformat_minor": 5
}
